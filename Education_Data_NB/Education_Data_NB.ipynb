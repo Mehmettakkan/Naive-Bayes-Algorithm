{
 "cells": [
  {
   "cell_type": "code",
   "execution_count": 1,
   "id": "29118424-a9e8-45e3-a270-ce6a2e4df023",
   "metadata": {},
   "outputs": [
    {
     "name": "stdout",
     "output_type": "stream",
     "text": [
      "   ID  Score  Passed  Gender   Class\n",
      "0   1     70    True       1  CLASS1\n",
      "1   3     90    True       1  CLASS2\n",
      "2   1     85   False       0  CLASS2\n",
      "3   1     95   False       0  CLASS2\n",
      "4   2     70   False       1  CLASS1\n"
     ]
    }
   ],
   "source": [
    "# NumPy ve Pandas kütüphanelerini yükleme\n",
    "import numpy as np\n",
    "import pandas as pd\n",
    "\n",
    "# Eğitim veri setini yükleme\n",
    "education_data = pd.read_csv('/Downloads/Education_Data_NB/training.csv')\n",
    "\n",
    "# Sütun isimlerini yeniden adlandırma\n",
    "education_data.columns = ['ID', 'Score', 'Passed', 'Gender', 'Class']\n",
    "\n",
    "# Veri setinin ilk beş satırını görüntüleme\n",
    "print(education_data.head())"
   ]
  },
  {
   "cell_type": "code",
   "execution_count": 2,
   "id": "fef1a77d-93d9-4d0a-9946-7715eaaf2e68",
   "metadata": {},
   "outputs": [],
   "source": [
    "# Sütun isimlerini alarak özellikleri belirleme\n",
    "columns_names = list(education_data.columns)\n",
    "predictors = columns_names[0:4] # Özellikler: ID, Score, Passed, Gender\n",
    "target=columns_names[1] # Hedef değişken: Score"
   ]
  },
  {
   "cell_type": "code",
   "execution_count": 3,
   "id": "711b6f08-4c8c-4636-b5fe-3716f1dd93dc",
   "metadata": {},
   "outputs": [],
   "source": [
    "# Veri setini eğitim ve test alt kümelerine bölmek için train_test_split fonksiyonunu kullanma\n",
    "from sklearn.model_selection import train_test_split\n",
    "train,test = train_test_split(education_data, test_size=0.3, random_state=0)"
   ]
  },
  {
   "cell_type": "code",
   "execution_count": 4,
   "id": "75b0f060-6dfa-4ee7-b87d-f862e2e258b8",
   "metadata": {},
   "outputs": [],
   "source": [
    "############# Naive Bayes ############\n",
    "\n",
    "# Guassian Naive Bayes"
   ]
  },
  {
   "cell_type": "code",
   "execution_count": 5,
   "id": "c68f8d96-dc07-481b-841b-7dd82e63d90b",
   "metadata": {},
   "outputs": [],
   "source": [
    "# Çok sınıflı sınıflandırma problemleri için macro ortalama stratejisi tercih edilir. \n",
    "# Bu strateji, her bir sınıfın performansını eşit olarak değerlendirir ve tüm sınıfların geri çağırma değerlerini bir araya getirerek bir ortalama oluşturur. \n",
    "# Bu nedenle, dengesiz sınıflar veya nadir sınıfların performansını göz ardı etmez.\n",
    "# Önemli Not: zero_division=1 parametresiyle, sıfır bölme durumunda 1 değeri döndürülmesini sağlıyoruz. \n",
    "# Bu, tanımsız (undefined) değerlerin yerine geçecek bir yaklaşımdır. \n",
    "# Ancak, bu yaklaşımın uygulanmasının doğru olup olmadığını veri setinizin özelliklerine göre değerlendirmeniz önemlidir. \n",
    "# (Bazı sınıflar için tanımsız değerlerin oluştuğunu belirtiyor. \n",
    "# Bunlar, tahmin edilen ya da gerçek sınıfların bazılarının örneklerinin olmamasından kaynaklanıyor olabilir.)"
   ]
  },
  {
   "cell_type": "code",
   "execution_count": 6,
   "id": "ace3dd64-a9b7-418f-915e-ad241a2f111f",
   "metadata": {},
   "outputs": [
    {
     "name": "stdout",
     "output_type": "stream",
     "text": [
      "Train Accuracy (Gaussian Naive Bayes): 1.0\n",
      "Test Accuracy (Gaussian Naive Bayes): 0.4\n",
      "Precision (Gaussian Naive Bayes): 0.6666666666666666\n",
      "Recall (Gaussian Naive Bayes): 0.5\n",
      "F1 Score (Gaussian Naive Bayes): 0.2222222222222222\n"
     ]
    }
   ],
   "source": [
    "from sklearn.naive_bayes import GaussianNB\n",
    "from sklearn.metrics import accuracy_score, precision_score, recall_score, f1_score\n",
    "\n",
    "# Gaussian Naive Bayes modelini oluşturma\n",
    "Gmodel = GaussianNB()\n",
    "Gmodel.fit(train[predictors], train[target])\n",
    "\n",
    "# Eğitim ve test veri setleri üzerinde tahmin yapma\n",
    "train_Gpred = Gmodel.predict(train[predictors])\n",
    "test_Gpred = Gmodel.predict(test[predictors])\n",
    "\n",
    "# Doğruluk (Accuracy) hesaplaması \n",
    "# (Bu fonksiyon, tahmin edilen değerler ile gerçek değerler arasındaki uyumu ölçmek için kullanılır.)\n",
    "train_acc_gau = accuracy_score(train[target], train_Gpred)\n",
    "test_acc_gau = accuracy_score(test[target], test_Gpred)\n",
    "print('Train Accuracy (Gaussian Naive Bayes):', train_acc_gau)\n",
    "print('Test Accuracy (Gaussian Naive Bayes):', test_acc_gau)\n",
    "\n",
    "# Hassasiyet (Precision) hesaplaması\n",
    "# (Bu fonksiyon, modelin pozitif olarak tahmin ettiği örneklerin gerçekten pozitif olma oranını ifade eder.)\n",
    "precision_gau = precision_score(test[target], test_Gpred, average='macro', zero_division=1)\n",
    "print('Precision (Gaussian Naive Bayes):', precision_gau)\n",
    "\n",
    "# Geri Çağırma (Recall) hesaplaması\n",
    "# (Bu fonksiyon, gerçek ve tahmin edilen değerler arasındaki uyumu ölçer ve bir geri çağırma değeri döndürür.)\n",
    "# (Yani, gerçek pozitif örneklerin ne kadarının doğru bir şekilde tespit edildiğini gösterir. \n",
    "# Bu değer ne kadar yüksekse, modelin gerçek pozitifleri tespit etme yeteneği o kadar iyidir.)\n",
    "recall_gau = recall_score(test[target], test_Gpred, average='macro', zero_division=1)\n",
    "print('Recall (Gaussian Naive Bayes):', recall_gau)\n",
    "\n",
    "# F1 Skoru hesaplaması\n",
    "# (F1 skoru, hassasiyet (precision) ve geri çağırma (recall) metriklerinin harmonik ortalamasıdır.)\n",
    "# (hem hassasiyetin hem de geri çağırmanın yüksek olduğu durumlarda F1 skoru yüksek olacaktır.)\n",
    "f1_gau = f1_score(test[target], test_Gpred, average='macro')\n",
    "print('F1 Score (Gaussian Naive Bayes):', f1_gau)\n"
   ]
  },
  {
   "cell_type": "code",
   "execution_count": 7,
   "id": "97290f22-1ace-4cd6-9972-a8f9726fef37",
   "metadata": {},
   "outputs": [],
   "source": [
    "#Multinomial Naive Bayes\n",
    "\n",
    "from sklearn.naive_bayes import MultinomialNB\n",
    "from sklearn.metrics import accuracy_score\n",
    "\n",
    "# Multinomial Naive Bayes modelini oluşturma\n",
    "Mmodel = MultinomialNB()\n",
    "Mmodel.fit(train[predictors], train[target])\n",
    "\n",
    "# Eğitim ve test verileri üzerinde tahmin yapma\n",
    "train_Mpred = Mmodel.predict(train[predictors])\n",
    "test_Mpred = Mmodel.predict(test[predictors])"
   ]
  },
  {
   "cell_type": "code",
   "execution_count": 8,
   "id": "d9bdb6b4-1a4d-4260-9c61-e2ca6e0481dd",
   "metadata": {},
   "outputs": [
    {
     "name": "stdout",
     "output_type": "stream",
     "text": [
      "Eğitim Doğruluğu (Multinomial Naive Bayes): 0.5555555555555556\n",
      "Test Doğruluğu (Multinomial Naive Bayes): 0.0\n"
     ]
    }
   ],
   "source": [
    "# Doğruluk (accuracy) değerlerini hesaplama\n",
    "train_acc_multi = accuracy_score(train[target], train_Mpred)\n",
    "test_acc_multi = accuracy_score(test[target], test_Mpred)\n",
    "\n",
    "print(\"Eğitim Doğruluğu (Multinomial Naive Bayes):\", train_acc_multi)\n",
    "print(\"Test Doğruluğu (Multinomial Naive Bayes):\", test_acc_multi)"
   ]
  }
 ],
 "metadata": {
  "kernelspec": {
   "display_name": "Python 3 (ipykernel)",
   "language": "python",
   "name": "python3"
  },
  "language_info": {
   "codemirror_mode": {
    "name": "ipython",
    "version": 3
   },
   "file_extension": ".py",
   "mimetype": "text/x-python",
   "name": "python",
   "nbconvert_exporter": "python",
   "pygments_lexer": "ipython3",
   "version": "3.12.2"
  }
 },
 "nbformat": 4,
 "nbformat_minor": 5
}
